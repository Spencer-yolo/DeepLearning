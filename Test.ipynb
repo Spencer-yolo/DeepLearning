{
 "cells": [
  {
   "cell_type": "code",
   "execution_count": 3,
   "id": "7981e78c",
   "metadata": {},
   "outputs": [
    {
     "name": "stdout",
     "output_type": "stream",
     "text": [
      "ceshi2\n"
     ]
    }
   ],
   "source": [
    "class Test_self:\n",
    "    def __init__(self, name):\n",
    "        self.name =name\n",
    "\n",
    "    def prin_1(self, name):\n",
    "        self.name = name\n",
    "        return self\n",
    "\n",
    "    def prin_2(self, name):\n",
    "        self.name = name\n",
    "        return self\n",
    "\n",
    "    def __repr__(self):\n",
    "        return self.name\n",
    "\n",
    "test_self = Test_self(\"simon_self\")\n",
    "print(test_self.prin_1(\"spencer_self\").prin_2(\"ceshi2\")) \n"
   ]
  },
  {
   "cell_type": "code",
   "execution_count": 4,
   "id": "4479c33a",
   "metadata": {},
   "outputs": [
    {
     "name": "stdout",
     "output_type": "stream",
     "text": [
      "['data', 'test1', '8973']\n",
      "['data/test1/8973', 'jpg']\n",
      "0\n"
     ]
    }
   ],
   "source": [
    "filename = \"data/test1/8973.jpg\"\n",
    "print(filename.split(\".\")[-2].split(\"/\"))\n",
    "print(filename.split(\".\"))\n",
    "print(1 if \"dog\" in filename.split(\"/\")[-1] else 0)\n"
   ]
  },
  {
   "cell_type": "code",
   "execution_count": 7,
   "id": "31c6ae88",
   "metadata": {},
   "outputs": [
    {
     "name": "stdout",
     "output_type": "stream",
     "text": [
      "True\n"
     ]
    }
   ],
   "source": [
    "#  hasattr函数的测试\n",
    "class Hasattr:\n",
    "    def __init__(self, name=\"simon\", age = \"19\"):\n",
    "        self.name = name\n",
    "        self.age = age\n",
    "\n",
    "test_hasattr = Hasattr()\n",
    "print(hasattr(test_hasattr, \"name\"))  # 返回True"
   ]
  },
  {
   "cell_type": "code",
   "execution_count": 8,
   "id": "45ffe092",
   "metadata": {},
   "outputs": [
    {
     "name": "stderr",
     "output_type": "stream",
     "text": [
      "ERROR: Cannot find key: -f\n",
      "Usage: ipykernel_launcher.py <group|command|value>\n",
      "  available groups:      In | Out | exit | quit | np | visdom | viz |\n",
      "                         test_self | test_hasattr | fire\n",
      "  available commands:    get_ipython | Test_self | Hasattr | add | mul\n",
      "  available values:      filename\n",
      "\n",
      "For detailed information on this command, run:\n",
      "  ipykernel_launcher.py --help\n"
     ]
    },
    {
     "ename": "FireExit",
     "evalue": "2",
     "output_type": "error",
     "traceback": [
      "An exception has occurred, use %tb to see the full traceback.\n",
      "\u001b[1;31mFireExit\u001b[0m\u001b[1;31m:\u001b[0m 2\n"
     ]
    },
    {
     "name": "stderr",
     "output_type": "stream",
     "text": [
      "D:\\01-programming\\Anaconda3\\envs\\pytorch\\lib\\site-packages\\IPython\\core\\interactiveshell.py:3405: UserWarning: To exit: use 'exit', 'quit', or Ctrl-D.\n",
      "  warn(\"To exit: use 'exit', 'quit', or Ctrl-D.\", stacklevel=1)\n"
     ]
    }
   ],
   "source": [
    "# fire命令行工具测试\n",
    "import fire\n",
    "\n",
    "def add(x, y):\n",
    "  return x + y\n",
    "  \n",
    "def mul(**kwargs):\n",
    "    a = kwargs['a']\n",
    "    b = kwargs['b']\n",
    "    return a * b\n",
    "\n",
    "if __name__ == '__main__':\n",
    "  fire.Fire()"
   ]
  },
  {
   "cell_type": "code",
   "execution_count": 4,
   "id": "3cb08705",
   "metadata": {},
   "outputs": [
    {
     "name": "stdout",
     "output_type": "stream",
     "text": [
      "simon\n"
     ]
    }
   ],
   "source": [
    "# 测试 获取类的属性hasattr()  和 修改属性setattr()\n",
    "class Tom:\n",
    "    name = \"simon\"\n",
    "    age = \"19\"\n",
    "    school = \"hebeishida\"\n",
    "\n",
    "tom = Tom()\n",
    "if hasattr(tom, \"name\"):\n",
    "    setattr(tom,\" name\", \"Spencer\")\n",
    "print(tom.name)"
   ]
  },
  {
   "cell_type": "code",
   "execution_count": 5,
   "id": "7cca0ccf",
   "metadata": {},
   "outputs": [
    {
     "name": "stdout",
     "output_type": "stream",
     "text": [
      "0-0\t1-1\t2-2\t3-3\t4-4\t5-5\t6-6\t7-7\t8-8\t9-9\t"
     ]
    }
   ],
   "source": [
    "# 测试enumerate 范围可迭代的 数据和下标\n",
    "num = [x for x in range(10)]\n",
    "for data,index in enumerate(num):\n",
    "    print(data,end=\"-\")\n",
    "    print(index, end=\"\\t\")"
   ]
  },
  {
   "cell_type": "code",
   "execution_count": null,
   "id": "5eec1a6f",
   "metadata": {},
   "outputs": [],
   "source": []
  },
  {
   "cell_type": "code",
   "execution_count": null,
   "id": "1bb859dd",
   "metadata": {},
   "outputs": [],
   "source": [
    "# from torch.autograd import Variable\n",
    "# from torch.utils.data import DataLoader\n",
    "# import torchnet.meter as meter\n",
    "\n",
    "# from Dogvscat.data.dataset import DogCat\n",
    "# from Dogvscat.utils.visualizer import Visualizer\n",
    "# import torch as t\n",
    "\n",
    "# train_data = DogCat(\"./Dogvscat/data/train/\", train=True)\n",
    "# train_dataloader = DataLoader(train_data, 128, shuffle=True,\n",
    "#                                  num_workers=3)\n",
    "# for i,(data, label) in enumerate(train_dataloader[1]):\n",
    "#     print(ii, end=\" \")\n",
    "#     print(data, end=\" \")\n",
    "#     print(label,end=\" \")\n",
    "   "
   ]
  },
  {
   "cell_type": "code",
   "execution_count": 1,
   "id": "aacaa301",
   "metadata": {},
   "outputs": [
    {
     "name": "stdout",
     "output_type": "stream",
     "text": [
      "5\n",
      "6\n",
      "7\n",
      "8\n",
      "9\n"
     ]
    }
   ],
   "source": [
    "# 测试if水平的用法\n",
    "for i in range(10):\n",
    "    if i > 4: print(i)"
   ]
  },
  {
   "cell_type": "code",
   "execution_count": null,
   "id": "2813cc1f",
   "metadata": {},
   "outputs": [],
   "source": []
  }
 ],
 "metadata": {
  "kernelspec": {
   "display_name": "pytorch1.8.0",
   "language": "python",
   "name": "pytorch"
  },
  "language_info": {
   "codemirror_mode": {
    "name": "ipython",
    "version": 3
   },
   "file_extension": ".py",
   "mimetype": "text/x-python",
   "name": "python",
   "nbconvert_exporter": "python",
   "pygments_lexer": "ipython3",
   "version": "3.8.5"
  }
 },
 "nbformat": 4,
 "nbformat_minor": 5
}
